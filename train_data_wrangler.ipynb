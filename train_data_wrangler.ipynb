{
 "cells": [
  {
   "cell_type": "markdown",
   "metadata": {},
   "source": [
    "<center><h1>Train Data Wrangler</h1></center>"
   ]
  },
  {
   "cell_type": "markdown",
   "metadata": {},
   "source": [
    "<b>Introduction: </b>The Titanic sinking was one of the most infamous accidents in human history. A lot of passengers lost their lives. In this analysis we are going to formulate an hypothesis for describe who profiles were most susceptibles to live."
   ]
  },
  {
   "cell_type": "code",
   "execution_count": 1,
   "metadata": {},
   "outputs": [],
   "source": [
    "import pandas as pd\n",
    "import numpy as np\n",
    "from matplotlib import pyplot as plt\n",
    "import seaborn as sb\n",
    "\n",
    "%matplotlib inline"
   ]
  },
  {
   "cell_type": "code",
   "execution_count": 2,
   "metadata": {},
   "outputs": [
    {
     "name": "stdout",
     "output_type": "stream",
     "text": [
      "(891, 12)\n"
     ]
    }
   ],
   "source": [
    "# Read CSV file and look its columns and rows\n",
    "df_train = pd.read_csv('train.csv')\n",
    "print(df_train.shape)"
   ]
  },
  {
   "cell_type": "code",
   "execution_count": 3,
   "metadata": {},
   "outputs": [
    {
     "data": {
      "text/html": [
       "<div>\n",
       "<style scoped>\n",
       "    .dataframe tbody tr th:only-of-type {\n",
       "        vertical-align: middle;\n",
       "    }\n",
       "\n",
       "    .dataframe tbody tr th {\n",
       "        vertical-align: top;\n",
       "    }\n",
       "\n",
       "    .dataframe thead th {\n",
       "        text-align: right;\n",
       "    }\n",
       "</style>\n",
       "<table border=\"1\" class=\"dataframe\">\n",
       "  <thead>\n",
       "    <tr style=\"text-align: right;\">\n",
       "      <th></th>\n",
       "      <th>PassengerId</th>\n",
       "      <th>Survived</th>\n",
       "      <th>Pclass</th>\n",
       "      <th>Name</th>\n",
       "      <th>Sex</th>\n",
       "      <th>Age</th>\n",
       "      <th>SibSp</th>\n",
       "      <th>Parch</th>\n",
       "      <th>Ticket</th>\n",
       "      <th>Fare</th>\n",
       "      <th>Cabin</th>\n",
       "      <th>Embarked</th>\n",
       "    </tr>\n",
       "  </thead>\n",
       "  <tbody>\n",
       "    <tr>\n",
       "      <th>0</th>\n",
       "      <td>1</td>\n",
       "      <td>0</td>\n",
       "      <td>3</td>\n",
       "      <td>Braund, Mr. Owen Harris</td>\n",
       "      <td>male</td>\n",
       "      <td>22.0</td>\n",
       "      <td>1</td>\n",
       "      <td>0</td>\n",
       "      <td>A/5 21171</td>\n",
       "      <td>7.2500</td>\n",
       "      <td>NaN</td>\n",
       "      <td>S</td>\n",
       "    </tr>\n",
       "    <tr>\n",
       "      <th>1</th>\n",
       "      <td>2</td>\n",
       "      <td>1</td>\n",
       "      <td>1</td>\n",
       "      <td>Cumings, Mrs. John Bradley (Florence Briggs Th...</td>\n",
       "      <td>female</td>\n",
       "      <td>38.0</td>\n",
       "      <td>1</td>\n",
       "      <td>0</td>\n",
       "      <td>PC 17599</td>\n",
       "      <td>71.2833</td>\n",
       "      <td>C85</td>\n",
       "      <td>C</td>\n",
       "    </tr>\n",
       "    <tr>\n",
       "      <th>2</th>\n",
       "      <td>3</td>\n",
       "      <td>1</td>\n",
       "      <td>3</td>\n",
       "      <td>Heikkinen, Miss. Laina</td>\n",
       "      <td>female</td>\n",
       "      <td>26.0</td>\n",
       "      <td>0</td>\n",
       "      <td>0</td>\n",
       "      <td>STON/O2. 3101282</td>\n",
       "      <td>7.9250</td>\n",
       "      <td>NaN</td>\n",
       "      <td>S</td>\n",
       "    </tr>\n",
       "    <tr>\n",
       "      <th>3</th>\n",
       "      <td>4</td>\n",
       "      <td>1</td>\n",
       "      <td>1</td>\n",
       "      <td>Futrelle, Mrs. Jacques Heath (Lily May Peel)</td>\n",
       "      <td>female</td>\n",
       "      <td>35.0</td>\n",
       "      <td>1</td>\n",
       "      <td>0</td>\n",
       "      <td>113803</td>\n",
       "      <td>53.1000</td>\n",
       "      <td>C123</td>\n",
       "      <td>S</td>\n",
       "    </tr>\n",
       "    <tr>\n",
       "      <th>4</th>\n",
       "      <td>5</td>\n",
       "      <td>0</td>\n",
       "      <td>3</td>\n",
       "      <td>Allen, Mr. William Henry</td>\n",
       "      <td>male</td>\n",
       "      <td>35.0</td>\n",
       "      <td>0</td>\n",
       "      <td>0</td>\n",
       "      <td>373450</td>\n",
       "      <td>8.0500</td>\n",
       "      <td>NaN</td>\n",
       "      <td>S</td>\n",
       "    </tr>\n",
       "  </tbody>\n",
       "</table>\n",
       "</div>"
      ],
      "text/plain": [
       "   PassengerId  Survived  Pclass  \\\n",
       "0            1         0       3   \n",
       "1            2         1       1   \n",
       "2            3         1       3   \n",
       "3            4         1       1   \n",
       "4            5         0       3   \n",
       "\n",
       "                                                Name     Sex   Age  SibSp  \\\n",
       "0                            Braund, Mr. Owen Harris    male  22.0      1   \n",
       "1  Cumings, Mrs. John Bradley (Florence Briggs Th...  female  38.0      1   \n",
       "2                             Heikkinen, Miss. Laina  female  26.0      0   \n",
       "3       Futrelle, Mrs. Jacques Heath (Lily May Peel)  female  35.0      1   \n",
       "4                           Allen, Mr. William Henry    male  35.0      0   \n",
       "\n",
       "   Parch            Ticket     Fare Cabin Embarked  \n",
       "0      0         A/5 21171   7.2500   NaN        S  \n",
       "1      0          PC 17599  71.2833   C85        C  \n",
       "2      0  STON/O2. 3101282   7.9250   NaN        S  \n",
       "3      0            113803  53.1000  C123        S  \n",
       "4      0            373450   8.0500   NaN        S  "
      ]
     },
     "execution_count": 3,
     "metadata": {},
     "output_type": "execute_result"
    }
   ],
   "source": [
    "df_train.head()"
   ]
  },
  {
   "cell_type": "markdown",
   "metadata": {},
   "source": [
    "<b>Hypothesis: </b>When the Titanic sank and people realized that lifeboats were too few for all passengers, they imposed some preferences for people who can survive, taking into account first the class (Pclass), on second place they would probably prefer a child before an adult (Age), thirdly they would probably prefer women before men (Sex) and the last condition of preference perhaps is that alone passengers survived more than the accompanied passengers (SibSp)(Parch) Probably because the accompanied passengers gave their place in a lifeboat to any member of their family. This is my hypothesis in this analysis, but what does the data tell us? We will find out.\n",
    "<br>\n",
    "<br><b>Note 1: </b> Is important to verify that the fare paid is related with the passengers class. If the relation exists, then we can drop fare column, because it won't represent any relevant information for us.\n",
    "<br><b>Note 2: </b> Probably the embarked place has an important roll on people culture, so we need to analyze if passengers who arrived on a specific embarked place were more susceptibles to gave their places on lifeboats.\n",
    "<br><b>Note 3: </b> Personally, I don't think that exists a difference on our prediction with passengers who traveled accompanied for sister or brothers and passengers who traveled with parents or soons. Because these cases could be resume on a sex roll situation. Men gave their places to women. So based on this supposed we can join SibSp and Parch columns on one FamMem (Family Members) column.\n",
    "<br><b>Note 4: </b> Before send the train_master_table to visualization stage, we must consider whether the ages should be shown as they are represented originally, or shown separeted on groups like children, adults and the elderly.\n",
    "\n",
    "<br>According with this hyphotesis, which columns are important for our prediction model?\n",
    "    1. Passengerld         (Y)\n",
    "    2. Survived            (Y)\n",
    "    3. Pclass              (Y)\n",
    "    4. Name                (N)\n",
    "    5. Sex                 (Y)\n",
    "    6. Age                 (Y)\n",
    "    7. SibSp               (P)\n",
    "    8. Parch               (P)\n",
    "    9. Ticket              (N)\n",
    "    10. Fare               (P)\n",
    "    11. Cabin              (N)\n",
    "    12. Embarked           (P)"
   ]
  },
  {
   "cell_type": "code",
   "execution_count": 4,
   "metadata": {},
   "outputs": [
    {
     "data": {
      "text/plain": [
       "PassengerId      0\n",
       "Survived         0\n",
       "Pclass           0\n",
       "Name             0\n",
       "Sex              0\n",
       "Age            177\n",
       "SibSp            0\n",
       "Parch            0\n",
       "Ticket           0\n",
       "Fare             0\n",
       "Cabin          687\n",
       "Embarked         2\n",
       "dtype: int64"
      ]
     },
     "execution_count": 4,
     "metadata": {},
     "output_type": "execute_result"
    }
   ],
   "source": [
    "# Identify where are the NaN data\n",
    "df_train.isnull().sum()"
   ]
  },
  {
   "cell_type": "code",
   "execution_count": 5,
   "metadata": {},
   "outputs": [
    {
     "name": "stdout",
     "output_type": "stream",
     "text": [
      "(712, 9)\n"
     ]
    }
   ],
   "source": [
    "# We need to drop non relevant columns and the NaN data\n",
    "df_train.drop(['Name', 'Ticket', 'Cabin'], axis = 'columns',inplace = True)\n",
    "df_train.dropna(subset=['Age'],inplace = True)\n",
    "df_train.dropna(subset=['Embarked'],inplace = True)\n",
    "print(df_train.shape)"
   ]
  },
  {
   "cell_type": "code",
   "execution_count": 6,
   "metadata": {},
   "outputs": [
    {
     "data": {
      "text/plain": [
       "PassengerId    0\n",
       "Survived       0\n",
       "Pclass         0\n",
       "Sex            0\n",
       "Age            0\n",
       "SibSp          0\n",
       "Parch          0\n",
       "Fare           0\n",
       "Embarked       0\n",
       "dtype: int64"
      ]
     },
     "execution_count": 6,
     "metadata": {},
     "output_type": "execute_result"
    }
   ],
   "source": [
    "df_train.isnull().sum()"
   ]
  },
  {
   "cell_type": "code",
   "execution_count": 7,
   "metadata": {},
   "outputs": [
    {
     "data": {
      "text/html": [
       "<div>\n",
       "<style scoped>\n",
       "    .dataframe tbody tr th:only-of-type {\n",
       "        vertical-align: middle;\n",
       "    }\n",
       "\n",
       "    .dataframe tbody tr th {\n",
       "        vertical-align: top;\n",
       "    }\n",
       "\n",
       "    .dataframe thead th {\n",
       "        text-align: right;\n",
       "    }\n",
       "</style>\n",
       "<table border=\"1\" class=\"dataframe\">\n",
       "  <thead>\n",
       "    <tr style=\"text-align: right;\">\n",
       "      <th></th>\n",
       "      <th>PassengerId</th>\n",
       "      <th>Survived</th>\n",
       "      <th>Pclass</th>\n",
       "      <th>Sex</th>\n",
       "      <th>Age</th>\n",
       "      <th>SibSp</th>\n",
       "      <th>Parch</th>\n",
       "      <th>Fare</th>\n",
       "      <th>Embarked</th>\n",
       "    </tr>\n",
       "  </thead>\n",
       "  <tbody>\n",
       "    <tr>\n",
       "      <th>0</th>\n",
       "      <td>1</td>\n",
       "      <td>0</td>\n",
       "      <td>3</td>\n",
       "      <td>male</td>\n",
       "      <td>22.0</td>\n",
       "      <td>1</td>\n",
       "      <td>0</td>\n",
       "      <td>7.2500</td>\n",
       "      <td>S</td>\n",
       "    </tr>\n",
       "    <tr>\n",
       "      <th>1</th>\n",
       "      <td>2</td>\n",
       "      <td>1</td>\n",
       "      <td>1</td>\n",
       "      <td>female</td>\n",
       "      <td>38.0</td>\n",
       "      <td>1</td>\n",
       "      <td>0</td>\n",
       "      <td>71.2833</td>\n",
       "      <td>C</td>\n",
       "    </tr>\n",
       "    <tr>\n",
       "      <th>2</th>\n",
       "      <td>3</td>\n",
       "      <td>1</td>\n",
       "      <td>3</td>\n",
       "      <td>female</td>\n",
       "      <td>26.0</td>\n",
       "      <td>0</td>\n",
       "      <td>0</td>\n",
       "      <td>7.9250</td>\n",
       "      <td>S</td>\n",
       "    </tr>\n",
       "    <tr>\n",
       "      <th>3</th>\n",
       "      <td>4</td>\n",
       "      <td>1</td>\n",
       "      <td>1</td>\n",
       "      <td>female</td>\n",
       "      <td>35.0</td>\n",
       "      <td>1</td>\n",
       "      <td>0</td>\n",
       "      <td>53.1000</td>\n",
       "      <td>S</td>\n",
       "    </tr>\n",
       "    <tr>\n",
       "      <th>4</th>\n",
       "      <td>5</td>\n",
       "      <td>0</td>\n",
       "      <td>3</td>\n",
       "      <td>male</td>\n",
       "      <td>35.0</td>\n",
       "      <td>0</td>\n",
       "      <td>0</td>\n",
       "      <td>8.0500</td>\n",
       "      <td>S</td>\n",
       "    </tr>\n",
       "  </tbody>\n",
       "</table>\n",
       "</div>"
      ],
      "text/plain": [
       "   PassengerId  Survived  Pclass     Sex   Age  SibSp  Parch     Fare Embarked\n",
       "0            1         0       3    male  22.0      1      0   7.2500        S\n",
       "1            2         1       1  female  38.0      1      0  71.2833        C\n",
       "2            3         1       3  female  26.0      0      0   7.9250        S\n",
       "3            4         1       1  female  35.0      1      0  53.1000        S\n",
       "4            5         0       3    male  35.0      0      0   8.0500        S"
      ]
     },
     "execution_count": 7,
     "metadata": {},
     "output_type": "execute_result"
    }
   ],
   "source": [
    "df_train.head()"
   ]
  },
  {
   "cell_type": "markdown",
   "metadata": {},
   "source": [
    "<br><b>Solving Note 1</b>"
   ]
  },
  {
   "cell_type": "code",
   "execution_count": 8,
   "metadata": {},
   "outputs": [
    {
     "data": {
      "image/png": "[encoded data removed]",
      "text/plain": [
       "<Figure size 1152x360 with 1 Axes>"
      ]
     },
     "metadata": {
      "needs_background": "light"
     },
     "output_type": "display_data"
    }
   ],
   "source": [
    "# Relation class-fare\n",
    "plt.figure(figsize=(16, 5))\n",
    "\n",
    "# Fares paid for 1º Class\n",
    "x1_class = df_train[df_train['Pclass']==1]['PassengerId']\n",
    "y1_class = df_train[df_train['Pclass']==1]['Fare']\n",
    "plt.scatter(x1_class, y1_class, color='gold', label='1º Class')\n",
    "\n",
    "# Fares paid for 2º Class\n",
    "x2_class = df_train[df_train['Pclass']==2]['PassengerId']\n",
    "y2_class = df_train[df_train['Pclass']==2]['Fare']\n",
    "plt.scatter(x2_class, y2_class, color='green', label='2º Class', alpha=0.4)\n",
    "\n",
    "# Fares paid for 3º Class\n",
    "x3_class = df_train[df_train['Pclass']==3]['PassengerId']\n",
    "y3_class = df_train[df_train['Pclass']==3]['Fare']\n",
    "plt.scatter(x3_class, y3_class, color='red', label='3º Class', alpha=0.2)\n",
    "\n",
    "plt.title('Class-Fare')\n",
    "plt.ylabel('Fare')\n",
    "plt.xlabel('Passenger Id')\n",
    "\n",
    "plt.legend(loc='best')\n",
    "plt.show()"
   ]
  },
  {
   "cell_type": "markdown",
   "metadata": {},
   "source": [
    "We look on this scatter map that class-fare relation isn't precise. There were first class passengers who paid THE SAME AS passengers on second and third class. This case is the same for the other classes; the fare paid doesn't define the passengers class. This is a problem, because we can't drop Fare column easily. So now, we need to analyze if first class passengers who paid a little fare had upper preference than passengers of second or third class who paid the same fare. If it posibility is true we can drop Fare column based on fact that class was most important to give a place on a lifeboats than the paid fare. But if preference was the same for the three classes, it will approve that the fare paid was most important than passengers class, so we need to add Fare column on our further analysis. "
   ]
  },
  {
   "cell_type": "code",
   "execution_count": 9,
   "metadata": {},
   "outputs": [
    {
     "data": {
      "text/plain": [
       "56.4958"
      ]
     },
     "execution_count": 9,
     "metadata": {},
     "output_type": "execute_result"
    }
   ],
   "source": [
    "# We define the top fare of our subset with the most expensive fare paid for a third class place\n",
    "df_train[df_train['Pclass']==3]['Fare'].max()"
   ]
  },
  {
   "cell_type": "code",
   "execution_count": 10,
   "metadata": {},
   "outputs": [
    {
     "data": {
      "text/plain": [
       "10.5"
      ]
     },
     "execution_count": 10,
     "metadata": {},
     "output_type": "execute_result"
    }
   ],
   "source": [
    "# And bottom fare with the cheapest fare paid for a second class place\n",
    "df_train[df_train['Pclass']==2]['Fare'].min()"
   ]
  },
  {
   "cell_type": "code",
   "execution_count": 11,
   "metadata": {},
   "outputs": [
    {
     "data": {
      "image/png": "[encoded data removed]",
      "text/plain": [
       "<Figure size 1152x864 with 2 Axes>"
      ]
     },
     "metadata": {
      "needs_background": "light"
     },
     "output_type": "display_data"
    },
    {
     "name": "stdout",
     "output_type": "stream",
     "text": [
      "First class survival percentage: 0.55\n",
      "Second class survival percentage: 0.49\n",
      "Third class survival percentage: 0.32\n"
     ]
    }
   ],
   "source": [
    "# Same Fares Survived Percentage per Class\n",
    "plt.figure(figsize=(16, 12))\n",
    "\n",
    "# Fares paid for 1º Class\n",
    "x1_class = df_train[(df_train['Pclass']==1) & (df_train['Fare']<=56.4958) & (df_train['Fare']>=10.5)]['PassengerId']\n",
    "y1_class = df_train[(df_train['Pclass']==1) & (df_train['Fare']<=56.4958) & (df_train['Fare']>=10.5)]['Fare']\n",
    "\n",
    "# Fares paid for 2º Class\n",
    "x2_class = df_train[(df_train['Pclass']==2) & (df_train['Fare']<=56.4958) & (df_train['Fare']>=10.5)]['PassengerId']\n",
    "y2_class = df_train[(df_train['Pclass']==2) & (df_train['Fare']<=56.4958) & (df_train['Fare']>=10.5)]['Fare']\n",
    "\n",
    "# Fares paid for 3º Class\n",
    "x3_class = df_train[(df_train['Pclass']==3) & (df_train['Fare']<=56.4958) & (df_train['Fare']>=10.5)]['PassengerId']\n",
    "y3_class = df_train[(df_train['Pclass']==3) & (df_train['Fare']<=56.4958) & (df_train['Fare']>=10.5)]['Fare']\n",
    "\n",
    "\n",
    "\n",
    "# Survival Percentage for 1º Class\n",
    "total_sub1 = df_train[(df_train['Pclass']==1) & (df_train['Fare']<=56.4958) & (df_train['Fare']>=10.5)].count()[0]\n",
    "surv_sub1 = df_train[(df_train['Pclass']==1) & (df_train['Fare']<=56.4958) & (df_train['Fare']>=10.5) & (df_train['Survived']==1)].count()[0]\n",
    "y1_class_sub = surv_sub1/total_sub1\n",
    "\n",
    "# Survival Percentage for 2º Class\n",
    "total_sub2 = df_train[(df_train['Pclass']==2) & (df_train['Fare']<=56.4958) & (df_train['Fare']>=10.5)].count()[0]\n",
    "surv_sub2 = df_train[(df_train['Pclass']==2) & (df_train['Fare']<=56.4958) & (df_train['Fare']>=10.5) & (df_train['Survived']==1)].count()[0]\n",
    "y2_class_sub = surv_sub2/total_sub2\n",
    "\n",
    "# Survival Percentage for 3º Class\n",
    "total_sub3 = df_train[(df_train['Pclass']==3) & (df_train['Fare']<=56.4958) & (df_train['Fare']>=10.5)].count()[0]\n",
    "surv_sub3 = df_train[(df_train['Pclass']==3) & (df_train['Fare']<=56.4958) & (df_train['Fare']>=10.5) & (df_train['Survived']==1)].count()[0]\n",
    "y3_class_sub = surv_sub3/total_sub3\n",
    "\n",
    "\n",
    "# Scatter map with Subset Data\n",
    "plt.subplot(2, 1, 1)\n",
    "plt.scatter(x1_class, y1_class, color='gold', label='1º Class')\n",
    "plt.scatter(x2_class, y2_class, color='green', label='2º Class', alpha=0.4)\n",
    "plt.scatter(x3_class, y3_class, color='red', label='3º Class', alpha=0.2)\n",
    "plt.title('Same Fare Subset')\n",
    "plt.ylabel('Fare')\n",
    "plt.xlabel('Passenger Id')\n",
    "\n",
    "\n",
    "# Bar graph with Survival Percentage\n",
    "plt.subplot(2, 1, 2)\n",
    "plt.bar(['1'], y1_class_sub, label='1st Class', color='gold')\n",
    "plt.bar(['2'], y2_class_sub, label='2nd Class', color='green')\n",
    "plt.bar(['3'], y3_class_sub, label='3rd Class', color='red')\n",
    "\n",
    "plt.title('Same Fares Survival Percentage per Class')\n",
    "plt.ylabel('Percentage')\n",
    "plt.xlabel('Class')\n",
    "\n",
    "\n",
    "plt.legend(loc='best')\n",
    "plt.show()\n",
    "\n",
    "print(f'First class survival percentage: {round(y1_class_sub,2)}')\n",
    "print(f'Second class survival percentage: {round(y2_class_sub,2)}')\n",
    "print(f'Third class survival percentage: {round(y3_class_sub,2)}')"
   ]
  },
  {
   "cell_type": "markdown",
   "metadata": {},
   "source": [
    "This graph show us the evident preference according the passengers class. Then it shows that no matter the fee paid if not the passenger class for has more chances to survive."
   ]
  },
  {
   "cell_type": "code",
   "execution_count": 12,
   "metadata": {},
   "outputs": [
    {
     "data": {
      "text/html": [
       "<div>\n",
       "<style scoped>\n",
       "    .dataframe tbody tr th:only-of-type {\n",
       "        vertical-align: middle;\n",
       "    }\n",
       "\n",
       "    .dataframe tbody tr th {\n",
       "        vertical-align: top;\n",
       "    }\n",
       "\n",
       "    .dataframe thead th {\n",
       "        text-align: right;\n",
       "    }\n",
       "</style>\n",
       "<table border=\"1\" class=\"dataframe\">\n",
       "  <thead>\n",
       "    <tr style=\"text-align: right;\">\n",
       "      <th></th>\n",
       "      <th>PassengerId</th>\n",
       "      <th>Survived</th>\n",
       "      <th>Pclass</th>\n",
       "      <th>Sex</th>\n",
       "      <th>Age</th>\n",
       "      <th>SibSp</th>\n",
       "      <th>Parch</th>\n",
       "      <th>Embarked</th>\n",
       "    </tr>\n",
       "  </thead>\n",
       "  <tbody>\n",
       "    <tr>\n",
       "      <th>0</th>\n",
       "      <td>1</td>\n",
       "      <td>0</td>\n",
       "      <td>3</td>\n",
       "      <td>male</td>\n",
       "      <td>22.0</td>\n",
       "      <td>1</td>\n",
       "      <td>0</td>\n",
       "      <td>S</td>\n",
       "    </tr>\n",
       "    <tr>\n",
       "      <th>1</th>\n",
       "      <td>2</td>\n",
       "      <td>1</td>\n",
       "      <td>1</td>\n",
       "      <td>female</td>\n",
       "      <td>38.0</td>\n",
       "      <td>1</td>\n",
       "      <td>0</td>\n",
       "      <td>C</td>\n",
       "    </tr>\n",
       "    <tr>\n",
       "      <th>2</th>\n",
       "      <td>3</td>\n",
       "      <td>1</td>\n",
       "      <td>3</td>\n",
       "      <td>female</td>\n",
       "      <td>26.0</td>\n",
       "      <td>0</td>\n",
       "      <td>0</td>\n",
       "      <td>S</td>\n",
       "    </tr>\n",
       "    <tr>\n",
       "      <th>3</th>\n",
       "      <td>4</td>\n",
       "      <td>1</td>\n",
       "      <td>1</td>\n",
       "      <td>female</td>\n",
       "      <td>35.0</td>\n",
       "      <td>1</td>\n",
       "      <td>0</td>\n",
       "      <td>S</td>\n",
       "    </tr>\n",
       "    <tr>\n",
       "      <th>4</th>\n",
       "      <td>5</td>\n",
       "      <td>0</td>\n",
       "      <td>3</td>\n",
       "      <td>male</td>\n",
       "      <td>35.0</td>\n",
       "      <td>0</td>\n",
       "      <td>0</td>\n",
       "      <td>S</td>\n",
       "    </tr>\n",
       "  </tbody>\n",
       "</table>\n",
       "</div>"
      ],
      "text/plain": [
       "   PassengerId  Survived  Pclass     Sex   Age  SibSp  Parch Embarked\n",
       "0            1         0       3    male  22.0      1      0        S\n",
       "1            2         1       1  female  38.0      1      0        C\n",
       "2            3         1       3  female  26.0      0      0        S\n",
       "3            4         1       1  female  35.0      1      0        S\n",
       "4            5         0       3    male  35.0      0      0        S"
      ]
     },
     "execution_count": 12,
     "metadata": {},
     "output_type": "execute_result"
    }
   ],
   "source": [
    "# Then we can drop Fare column quietly\n",
    "df_train.drop(['Fare'], axis = 'columns',inplace = True)\n",
    "df_train.head()"
   ]
  },
  {
   "cell_type": "markdown",
   "metadata": {},
   "source": [
    "<br><b>Solving Note 2</b>"
   ]
  },
  {
   "cell_type": "code",
   "execution_count": 13,
   "metadata": {},
   "outputs": [
    {
     "data": {
      "image/png": "[encoded data removed]",
      "text/plain": [
       "<Figure size 1152x360 with 1 Axes>"
      ]
     },
     "metadata": {
      "needs_background": "light"
     },
     "output_type": "display_data"
    },
    {
     "name": "stdout",
     "output_type": "stream",
     "text": [
      "Southampon survival percentage: 0.36\n",
      "Cherbourg survival percentage: 0.61\n",
      "Queenstown survival percentage: 0.29\n"
     ]
    }
   ],
   "source": [
    "# At first we can create a bar graph with each survival percentage per embarked place\n",
    "plt.figure(figsize=(16, 5))\n",
    "\n",
    "# Survival Percentage of Southampon Port Embarked\n",
    "y2_total_s = df_train[df_train['Embarked']=='S'].count()[0]\n",
    "y2_surv_s = df_train[(df_train['Survived']==1) & (df_train['Embarked']=='S')].count()[0]\n",
    "y2_per_s = y2_surv_s/y2_total_s\n",
    "\n",
    "# Survival Percentage of Cherbourg Port Embarked\n",
    "y2_total_c = df_train[df_train['Embarked']=='C'].count()[0]\n",
    "y2_surv_c = df_train[(df_train['Survived']==1) & (df_train['Embarked']=='C')].count()[0]\n",
    "y2_per_c = y2_surv_c/y2_total_c\n",
    "\n",
    "# Survival Percentage of Queenstown Port Embarked\n",
    "y2_total_q = df_train[df_train['Embarked']=='Q'].count()[0]\n",
    "y2_surv_q = df_train[(df_train['Survived']==1) & (df_train['Embarked']=='Q')].count()[0]\n",
    "y2_per_q = y2_surv_q/y2_total_q\n",
    "\n",
    "\n",
    "plt.bar(['S'], y2_per_s, label='Southampon', color='orange')\n",
    "plt.bar(['C'], y2_per_c, label='Cherbourg', color='gray')\n",
    "plt.bar(['Q'], y2_per_q, label='Queenstown', color='k')\n",
    "\n",
    "plt.title('Survival Percentage per Port of Embarked')\n",
    "plt.ylabel('Percentage')\n",
    "plt.xlabel('Port of Embarked')\n",
    "\n",
    "plt.legend(loc='best')\n",
    "plt.show()\n",
    "\n",
    "print(f'Southampon survival percentage: {round(y2_per_s,2)}')\n",
    "print(f'Cherbourg survival percentage: {round(y2_per_c,2)}')\n",
    "print(f'Queenstown survival percentage: {round(y2_per_q,2)}')"
   ]
  },
  {
   "cell_type": "markdown",
   "metadata": {},
   "source": [
    "Survival percentages aren't similar on our dataset. It represent that we need to analyze depplier the reason from this percentages are different. Maybe because in Cherbroug Port embarked more women than the other ports, other cause could be the number of passenger of first class in each port and other possibility could be that in Cherbourg Port embarked more childs."
   ]
  },
  {
   "cell_type": "code",
   "execution_count": 14,
   "metadata": {},
   "outputs": [
    {
     "data": {
      "image/png": "[encoded data removed]",
      "text/plain": [
       "<Figure size 720x576 with 1 Axes>"
      ]
     },
     "metadata": {
      "needs_background": "light"
     },
     "output_type": "display_data"
    }
   ],
   "source": [
    "# Total Passengers per Port of Embarked\n",
    "total_pass_S = df_train[df_train['Embarked']=='S'].count()[0]\n",
    "total_pass_C = df_train[df_train['Embarked']=='C'].count()[0]\n",
    "total_pass_Q = df_train[df_train['Embarked']=='Q'].count()[0]\n",
    "\n",
    "# Women Percentage per Port of Embarked\n",
    "total_women_S = df_train[(df_train['Embarked']=='S') & (df_train['Sex']=='female')].count()[0]\n",
    "women_per_S = total_women_S/total_pass_S\n",
    "total_women_C = df_train[(df_train['Embarked']=='C') & (df_train['Sex']=='female')].count()[0]\n",
    "women_per_C = total_women_C/total_pass_C\n",
    "total_women_Q = df_train[(df_train['Embarked']=='Q') & (df_train['Sex']=='female')].count()[0]\n",
    "women_per_Q = total_women_Q/total_pass_Q\n",
    "\n",
    "# Child Percentage per Port of Embarked\n",
    "total_child_S = df_train[(df_train['Embarked']=='S') & (df_train['Age']<=15)].count()[0]\n",
    "child_per_S = total_child_S/total_pass_S\n",
    "total_child_C = df_train[(df_train['Embarked']=='C') & (df_train['Age']<=15)].count()[0]\n",
    "child_per_C = total_child_C/total_pass_C\n",
    "total_child_Q = df_train[(df_train['Embarked']=='Q') & (df_train['Age']<=15)].count()[0]\n",
    "child_per_Q = total_child_Q/total_pass_Q\n",
    "\n",
    "# First Class Percentage per Port of Embarked\n",
    "total_1class_S = df_train[(df_train['Embarked']=='S') & (df_train['Pclass']==1)].count()[0]\n",
    "class1_per_S = total_1class_S/total_pass_S\n",
    "total_1class_C = df_train[(df_train['Embarked']=='C') & (df_train['Pclass']==1)].count()[0]\n",
    "class1_per_C = total_1class_C/total_pass_C\n",
    "total_1class_Q = df_train[(df_train['Embarked']=='Q') & (df_train['Pclass']==1)].count()[0]\n",
    "class1_per_Q = total_1class_Q/total_pass_Q\n",
    "\n",
    "# Second Class Percentage per Port of Embarked\n",
    "total_2class_S = df_train[(df_train['Embarked']=='S') & (df_train['Pclass']==2)].count()[0]\n",
    "class2_per_S = total_2class_S/total_pass_S\n",
    "total_2class_C = df_train[(df_train['Embarked']=='C') & (df_train['Pclass']==2)].count()[0]\n",
    "class2_per_C = total_2class_C/total_pass_C\n",
    "total_2class_Q = df_train[(df_train['Embarked']=='Q') & (df_train['Pclass']==2)].count()[0]\n",
    "class2_per_Q = total_2class_Q/total_pass_Q\n",
    "\n",
    "# Third Class Percentage per Port of Embarked\n",
    "total_3class_S = df_train[(df_train['Embarked']=='S') & (df_train['Pclass']==3)].count()[0]\n",
    "class3_per_S = total_3class_S/total_pass_S\n",
    "total_3class_C = df_train[(df_train['Embarked']=='C') & (df_train['Pclass']==3)].count()[0]\n",
    "class3_per_C = total_3class_C/total_pass_C\n",
    "total_3class_Q = df_train[(df_train['Embarked']=='Q') & (df_train['Pclass']==3)].count()[0]\n",
    "class3_per_Q = total_3class_Q/total_pass_Q\n",
    "\n",
    "# Array design for our heat map\n",
    "embarked = ['S', 'C', 'Q']\n",
    "clasifications = ['3rd class', '2nd class', '1st class', 'Child', 'Women'] \n",
    "\n",
    "percentage = np.array([[class3_per_S , class3_per_C , class3_per_Q],\n",
    "                       [class2_per_S , class2_per_C , class2_per_Q],\n",
    "                       [class1_per_S , class1_per_C , class1_per_Q],\n",
    "                       [child_per_S , child_per_C , child_per_Q],\n",
    "                       [women_per_S , women_per_C , women_per_Q]])\n",
    "\n",
    "# Heat map configuration\n",
    "fig, ax = plt.subplots(figsize=(10,8))\n",
    "im = ax.imshow(percentage, cmap=\"Reds\")\n",
    "\n",
    "ax.set_xticks(np.arange(len(embarked)))\n",
    "ax.set_xticklabels(embarked)\n",
    "ax.set_yticks(np.arange(len(clasifications)))\n",
    "ax.set_yticklabels(clasifications)\n",
    "\n",
    "# Loop over data dimensions and create text annotations.\n",
    "for i in range(len(clasifications)):\n",
    "    for j in range(len(embarked)):\n",
    "        text = ax.text(j, i, round(percentage[i, j], 1),\n",
    "                       ha=\"center\", va=\"center\", color=\"k\", size=15)\n",
    "        \n",
    "ax.set_title('Port of Embarked Heat Map')\n",
    "plt.show()"
   ]
  },
  {
   "cell_type": "markdown",
   "metadata": {},
   "source": [
    "On this heat map we can view many important things who help us to explain the high survival percentage from Cherbroug Port and the lower survival rate from Queenstown.\n",
    "    1. Cherbroug has highest women percentage, although it isn't much higher than the other percentages.\n",
    "    2. Cherbroug has 0.6 percent of 1st class passengers far above Southampon and Queenstown.\n",
    "    3. Queenstown has 0.9 percent of 3rd class passengers, so it may explain its lower survival rate\n",
    "These asseverations explain clearily the survival percentages for Cherbroug and Queenstown, but what about Southampon? Southampon Port has a half of its passengers on 3rd class and has lower women rate, so why has upper survival rate than Queenstown? It could generate many assumptions about this case, so finally I decided add this column on our final dataset, because the culture factor for each port of embarked cannot be measured properly."
   ]
  },
  {
   "cell_type": "markdown",
   "metadata": {},
   "source": [
    "<br><b>Solving Note 3</b>"
   ]
  },
  {
   "cell_type": "code",
   "execution_count": 15,
   "metadata": {},
   "outputs": [
    {
     "data": {
      "text/plain": [
       "Index(['PassengerId', 'Survived', 'Pclass', 'Sex', 'Age', 'SibSp', 'Parch',\n",
       "       'Embarked'],\n",
       "      dtype='object')"
      ]
     },
     "execution_count": 15,
     "metadata": {},
     "output_type": "execute_result"
    }
   ],
   "source": [
    "df_train.columns"
   ]
  },
  {
   "cell_type": "code",
   "execution_count": 16,
   "metadata": {},
   "outputs": [
    {
     "data": {
      "text/html": [
       "<div>\n",
       "<style scoped>\n",
       "    .dataframe tbody tr th:only-of-type {\n",
       "        vertical-align: middle;\n",
       "    }\n",
       "\n",
       "    .dataframe tbody tr th {\n",
       "        vertical-align: top;\n",
       "    }\n",
       "\n",
       "    .dataframe thead th {\n",
       "        text-align: right;\n",
       "    }\n",
       "</style>\n",
       "<table border=\"1\" class=\"dataframe\">\n",
       "  <thead>\n",
       "    <tr style=\"text-align: right;\">\n",
       "      <th></th>\n",
       "      <th>PassengerId</th>\n",
       "      <th>Survived</th>\n",
       "      <th>Pclass</th>\n",
       "      <th>Sex</th>\n",
       "      <th>Age</th>\n",
       "      <th>SibSp</th>\n",
       "      <th>Parch</th>\n",
       "      <th>Embarked</th>\n",
       "      <th>FamMem</th>\n",
       "    </tr>\n",
       "  </thead>\n",
       "  <tbody>\n",
       "    <tr>\n",
       "      <th>0</th>\n",
       "      <td>1</td>\n",
       "      <td>0</td>\n",
       "      <td>3</td>\n",
       "      <td>male</td>\n",
       "      <td>22.0</td>\n",
       "      <td>1</td>\n",
       "      <td>0</td>\n",
       "      <td>S</td>\n",
       "      <td>1</td>\n",
       "    </tr>\n",
       "    <tr>\n",
       "      <th>1</th>\n",
       "      <td>2</td>\n",
       "      <td>1</td>\n",
       "      <td>1</td>\n",
       "      <td>female</td>\n",
       "      <td>38.0</td>\n",
       "      <td>1</td>\n",
       "      <td>0</td>\n",
       "      <td>C</td>\n",
       "      <td>1</td>\n",
       "    </tr>\n",
       "    <tr>\n",
       "      <th>2</th>\n",
       "      <td>3</td>\n",
       "      <td>1</td>\n",
       "      <td>3</td>\n",
       "      <td>female</td>\n",
       "      <td>26.0</td>\n",
       "      <td>0</td>\n",
       "      <td>0</td>\n",
       "      <td>S</td>\n",
       "      <td>0</td>\n",
       "    </tr>\n",
       "    <tr>\n",
       "      <th>3</th>\n",
       "      <td>4</td>\n",
       "      <td>1</td>\n",
       "      <td>1</td>\n",
       "      <td>female</td>\n",
       "      <td>35.0</td>\n",
       "      <td>1</td>\n",
       "      <td>0</td>\n",
       "      <td>S</td>\n",
       "      <td>1</td>\n",
       "    </tr>\n",
       "    <tr>\n",
       "      <th>4</th>\n",
       "      <td>5</td>\n",
       "      <td>0</td>\n",
       "      <td>3</td>\n",
       "      <td>male</td>\n",
       "      <td>35.0</td>\n",
       "      <td>0</td>\n",
       "      <td>0</td>\n",
       "      <td>S</td>\n",
       "      <td>0</td>\n",
       "    </tr>\n",
       "  </tbody>\n",
       "</table>\n",
       "</div>"
      ],
      "text/plain": [
       "   PassengerId  Survived  Pclass     Sex   Age  SibSp  Parch Embarked  FamMem\n",
       "0            1         0       3    male  22.0      1      0        S       1\n",
       "1            2         1       1  female  38.0      1      0        C       1\n",
       "2            3         1       3  female  26.0      0      0        S       0\n",
       "3            4         1       1  female  35.0      1      0        S       1\n",
       "4            5         0       3    male  35.0      0      0        S       0"
      ]
     },
     "execution_count": 16,
     "metadata": {},
     "output_type": "execute_result"
    }
   ],
   "source": [
    "# Join SibSp and Parch columns on FamMem column\n",
    "df_train['FamMem'] = df_train[['SibSp', 'Parch']].sum(axis=1)\n",
    "df_train.head()"
   ]
  },
  {
   "cell_type": "code",
   "execution_count": 17,
   "metadata": {},
   "outputs": [],
   "source": [
    "# Now we can drop SibSp and Parch columns\n",
    "df_train.drop(['SibSp', 'Parch'], axis = 'columns',inplace = True)"
   ]
  },
  {
   "cell_type": "code",
   "execution_count": 18,
   "metadata": {},
   "outputs": [
    {
     "data": {
      "text/html": [
       "<div>\n",
       "<style scoped>\n",
       "    .dataframe tbody tr th:only-of-type {\n",
       "        vertical-align: middle;\n",
       "    }\n",
       "\n",
       "    .dataframe tbody tr th {\n",
       "        vertical-align: top;\n",
       "    }\n",
       "\n",
       "    .dataframe thead th {\n",
       "        text-align: right;\n",
       "    }\n",
       "</style>\n",
       "<table border=\"1\" class=\"dataframe\">\n",
       "  <thead>\n",
       "    <tr style=\"text-align: right;\">\n",
       "      <th></th>\n",
       "      <th>PassengerId</th>\n",
       "      <th>Survived</th>\n",
       "      <th>Pclass</th>\n",
       "      <th>Sex</th>\n",
       "      <th>Age</th>\n",
       "      <th>Embarked</th>\n",
       "      <th>FamMem</th>\n",
       "    </tr>\n",
       "  </thead>\n",
       "  <tbody>\n",
       "    <tr>\n",
       "      <th>0</th>\n",
       "      <td>1</td>\n",
       "      <td>0</td>\n",
       "      <td>3</td>\n",
       "      <td>male</td>\n",
       "      <td>22.0</td>\n",
       "      <td>S</td>\n",
       "      <td>1</td>\n",
       "    </tr>\n",
       "    <tr>\n",
       "      <th>1</th>\n",
       "      <td>2</td>\n",
       "      <td>1</td>\n",
       "      <td>1</td>\n",
       "      <td>female</td>\n",
       "      <td>38.0</td>\n",
       "      <td>C</td>\n",
       "      <td>1</td>\n",
       "    </tr>\n",
       "    <tr>\n",
       "      <th>2</th>\n",
       "      <td>3</td>\n",
       "      <td>1</td>\n",
       "      <td>3</td>\n",
       "      <td>female</td>\n",
       "      <td>26.0</td>\n",
       "      <td>S</td>\n",
       "      <td>0</td>\n",
       "    </tr>\n",
       "    <tr>\n",
       "      <th>3</th>\n",
       "      <td>4</td>\n",
       "      <td>1</td>\n",
       "      <td>1</td>\n",
       "      <td>female</td>\n",
       "      <td>35.0</td>\n",
       "      <td>S</td>\n",
       "      <td>1</td>\n",
       "    </tr>\n",
       "    <tr>\n",
       "      <th>4</th>\n",
       "      <td>5</td>\n",
       "      <td>0</td>\n",
       "      <td>3</td>\n",
       "      <td>male</td>\n",
       "      <td>35.0</td>\n",
       "      <td>S</td>\n",
       "      <td>0</td>\n",
       "    </tr>\n",
       "    <tr>\n",
       "      <th>6</th>\n",
       "      <td>7</td>\n",
       "      <td>0</td>\n",
       "      <td>1</td>\n",
       "      <td>male</td>\n",
       "      <td>54.0</td>\n",
       "      <td>S</td>\n",
       "      <td>0</td>\n",
       "    </tr>\n",
       "    <tr>\n",
       "      <th>7</th>\n",
       "      <td>8</td>\n",
       "      <td>0</td>\n",
       "      <td>3</td>\n",
       "      <td>male</td>\n",
       "      <td>2.0</td>\n",
       "      <td>S</td>\n",
       "      <td>4</td>\n",
       "    </tr>\n",
       "    <tr>\n",
       "      <th>8</th>\n",
       "      <td>9</td>\n",
       "      <td>1</td>\n",
       "      <td>3</td>\n",
       "      <td>female</td>\n",
       "      <td>27.0</td>\n",
       "      <td>S</td>\n",
       "      <td>2</td>\n",
       "    </tr>\n",
       "    <tr>\n",
       "      <th>9</th>\n",
       "      <td>10</td>\n",
       "      <td>1</td>\n",
       "      <td>2</td>\n",
       "      <td>female</td>\n",
       "      <td>14.0</td>\n",
       "      <td>C</td>\n",
       "      <td>1</td>\n",
       "    </tr>\n",
       "    <tr>\n",
       "      <th>10</th>\n",
       "      <td>11</td>\n",
       "      <td>1</td>\n",
       "      <td>3</td>\n",
       "      <td>female</td>\n",
       "      <td>4.0</td>\n",
       "      <td>S</td>\n",
       "      <td>2</td>\n",
       "    </tr>\n",
       "  </tbody>\n",
       "</table>\n",
       "</div>"
      ],
      "text/plain": [
       "    PassengerId  Survived  Pclass     Sex   Age Embarked  FamMem\n",
       "0             1         0       3    male  22.0        S       1\n",
       "1             2         1       1  female  38.0        C       1\n",
       "2             3         1       3  female  26.0        S       0\n",
       "3             4         1       1  female  35.0        S       1\n",
       "4             5         0       3    male  35.0        S       0\n",
       "6             7         0       1    male  54.0        S       0\n",
       "7             8         0       3    male   2.0        S       4\n",
       "8             9         1       3  female  27.0        S       2\n",
       "9            10         1       2  female  14.0        C       1\n",
       "10           11         1       3  female   4.0        S       2"
      ]
     },
     "execution_count": 18,
     "metadata": {},
     "output_type": "execute_result"
    }
   ],
   "source": [
    "df_train[0:10]"
   ]
  },
  {
   "cell_type": "code",
   "execution_count": 19,
   "metadata": {},
   "outputs": [],
   "source": [
    "# Finally we must to unify the type of data on our dataset\n",
    "def define_sex(x):\n",
    "    '''\n",
    "    Male == 0\n",
    "    Female == 1\n",
    "    '''\n",
    "    if x == 'male':\n",
    "        return 0\n",
    "    elif x == 'female':\n",
    "        return 1\n",
    "    else:\n",
    "        None\n",
    "\n",
    "def define_embarked(x):\n",
    "    '''\n",
    "    Southampon == 0\n",
    "    Cherbroug == 1\n",
    "    Queenstown == 2\n",
    "    '''\n",
    "    if x == 'S':\n",
    "        return 0\n",
    "    elif x == 'C':\n",
    "        return 1\n",
    "    elif x == 'Q':\n",
    "        return 2\n",
    "    else:\n",
    "        None\n",
    "        \n",
    "df_train['Sex'] = df_train['Sex'].apply(lambda x : define_sex(x))\n",
    "df_train['Embarked'] = df_train['Embarked'].apply(lambda x : define_embarked(x))"
   ]
  },
  {
   "cell_type": "code",
   "execution_count": 20,
   "metadata": {},
   "outputs": [
    {
     "data": {
      "text/html": [
       "<div>\n",
       "<style scoped>\n",
       "    .dataframe tbody tr th:only-of-type {\n",
       "        vertical-align: middle;\n",
       "    }\n",
       "\n",
       "    .dataframe tbody tr th {\n",
       "        vertical-align: top;\n",
       "    }\n",
       "\n",
       "    .dataframe thead th {\n",
       "        text-align: right;\n",
       "    }\n",
       "</style>\n",
       "<table border=\"1\" class=\"dataframe\">\n",
       "  <thead>\n",
       "    <tr style=\"text-align: right;\">\n",
       "      <th></th>\n",
       "      <th>PassengerId</th>\n",
       "      <th>Survived</th>\n",
       "      <th>Pclass</th>\n",
       "      <th>Sex</th>\n",
       "      <th>Age</th>\n",
       "      <th>Embarked</th>\n",
       "      <th>FamMem</th>\n",
       "    </tr>\n",
       "  </thead>\n",
       "  <tbody>\n",
       "    <tr>\n",
       "      <th>0</th>\n",
       "      <td>1</td>\n",
       "      <td>0</td>\n",
       "      <td>3</td>\n",
       "      <td>0</td>\n",
       "      <td>22.0</td>\n",
       "      <td>0</td>\n",
       "      <td>1</td>\n",
       "    </tr>\n",
       "    <tr>\n",
       "      <th>1</th>\n",
       "      <td>2</td>\n",
       "      <td>1</td>\n",
       "      <td>1</td>\n",
       "      <td>1</td>\n",
       "      <td>38.0</td>\n",
       "      <td>1</td>\n",
       "      <td>1</td>\n",
       "    </tr>\n",
       "    <tr>\n",
       "      <th>2</th>\n",
       "      <td>3</td>\n",
       "      <td>1</td>\n",
       "      <td>3</td>\n",
       "      <td>1</td>\n",
       "      <td>26.0</td>\n",
       "      <td>0</td>\n",
       "      <td>0</td>\n",
       "    </tr>\n",
       "    <tr>\n",
       "      <th>3</th>\n",
       "      <td>4</td>\n",
       "      <td>1</td>\n",
       "      <td>1</td>\n",
       "      <td>1</td>\n",
       "      <td>35.0</td>\n",
       "      <td>0</td>\n",
       "      <td>1</td>\n",
       "    </tr>\n",
       "    <tr>\n",
       "      <th>4</th>\n",
       "      <td>5</td>\n",
       "      <td>0</td>\n",
       "      <td>3</td>\n",
       "      <td>0</td>\n",
       "      <td>35.0</td>\n",
       "      <td>0</td>\n",
       "      <td>0</td>\n",
       "    </tr>\n",
       "    <tr>\n",
       "      <th>6</th>\n",
       "      <td>7</td>\n",
       "      <td>0</td>\n",
       "      <td>1</td>\n",
       "      <td>0</td>\n",
       "      <td>54.0</td>\n",
       "      <td>0</td>\n",
       "      <td>0</td>\n",
       "    </tr>\n",
       "    <tr>\n",
       "      <th>7</th>\n",
       "      <td>8</td>\n",
       "      <td>0</td>\n",
       "      <td>3</td>\n",
       "      <td>0</td>\n",
       "      <td>2.0</td>\n",
       "      <td>0</td>\n",
       "      <td>4</td>\n",
       "    </tr>\n",
       "    <tr>\n",
       "      <th>8</th>\n",
       "      <td>9</td>\n",
       "      <td>1</td>\n",
       "      <td>3</td>\n",
       "      <td>1</td>\n",
       "      <td>27.0</td>\n",
       "      <td>0</td>\n",
       "      <td>2</td>\n",
       "    </tr>\n",
       "    <tr>\n",
       "      <th>9</th>\n",
       "      <td>10</td>\n",
       "      <td>1</td>\n",
       "      <td>2</td>\n",
       "      <td>1</td>\n",
       "      <td>14.0</td>\n",
       "      <td>1</td>\n",
       "      <td>1</td>\n",
       "    </tr>\n",
       "    <tr>\n",
       "      <th>10</th>\n",
       "      <td>11</td>\n",
       "      <td>1</td>\n",
       "      <td>3</td>\n",
       "      <td>1</td>\n",
       "      <td>4.0</td>\n",
       "      <td>0</td>\n",
       "      <td>2</td>\n",
       "    </tr>\n",
       "  </tbody>\n",
       "</table>\n",
       "</div>"
      ],
      "text/plain": [
       "    PassengerId  Survived  Pclass  Sex   Age  Embarked  FamMem\n",
       "0             1         0       3    0  22.0         0       1\n",
       "1             2         1       1    1  38.0         1       1\n",
       "2             3         1       3    1  26.0         0       0\n",
       "3             4         1       1    1  35.0         0       1\n",
       "4             5         0       3    0  35.0         0       0\n",
       "6             7         0       1    0  54.0         0       0\n",
       "7             8         0       3    0   2.0         0       4\n",
       "8             9         1       3    1  27.0         0       2\n",
       "9            10         1       2    1  14.0         1       1\n",
       "10           11         1       3    1   4.0         0       2"
      ]
     },
     "execution_count": 20,
     "metadata": {},
     "output_type": "execute_result"
    }
   ],
   "source": [
    "df_train[0:10]"
   ]
  },
  {
   "cell_type": "markdown",
   "metadata": {},
   "source": [
    "<br><b>Solving Note 4</b>"
   ]
  },
  {
   "cell_type": "code",
   "execution_count": 21,
   "metadata": {},
   "outputs": [
    {
     "data": {
      "image/png": "[encoded data removed]",
      "text/plain": [
       "<Figure size 1152x360 with 2 Axes>"
      ]
     },
     "metadata": {
      "needs_background": "light"
     },
     "output_type": "display_data"
    },
    {
     "data": {
      "text/plain": [
       "count    712.000000\n",
       "mean      29.642093\n",
       "std       14.492933\n",
       "min        0.420000\n",
       "25%       20.000000\n",
       "50%       28.000000\n",
       "75%       38.000000\n",
       "max       80.000000\n",
       "Name: Age, dtype: float64"
      ]
     },
     "execution_count": 21,
     "metadata": {},
     "output_type": "execute_result"
    }
   ],
   "source": [
    "# Now, we need an histogram for describe our dataset ages\n",
    "ages = np.array(df_train['Age'])\n",
    "bins = list(range(0,100, 5))\n",
    "\n",
    "# Histogram configuration\n",
    "plt.figure(figsize=(16, 5))\n",
    "\n",
    "plt.subplot(1,2,1)\n",
    "plt.hist(ages, bins, histtype='bar', rwidth=0.8, color='lightblue')\n",
    "plt.grid(True, linewidth=0.5, linestyle='--', color='gray')\n",
    "plt.axvline(ages.mean(), color='r', linestyle='--', linewidth=2, label='Mean')\n",
    "plt.axvline(ages.mean() + ages.std(), color='b', linestyle='--', linewidth=2, label='+/- 1 std')\n",
    "plt.axvline(ages.mean() - ages.std(), color='b', linestyle='--', linewidth=2)\n",
    "\n",
    "plt.title('Ages Distribution')\n",
    "plt.ylabel('Frequency')\n",
    "plt.xlabel('Ages')\n",
    "plt.legend(loc='best')\n",
    "\n",
    "plt.subplot(1,2,2)\n",
    "plt.boxplot(x = ages)\n",
    "\n",
    "plt.show()\n",
    "\n",
    "df_train['Age'].describe()"
   ]
  },
  {
   "cell_type": "markdown",
   "metadata": {},
   "source": [
    "Note that our frequencys are evenly distributed with some outliers. Return our hypothesis, we argumented that probably children have more chances to survive than adults, but we didn't talk about the elders. Maybe elders survival rate is still lower than adults rate. The question is how we can group this ages properly. As proposal we are going to analyze the survival rate for three ages group according to ranges 0 to 15 years (Children), 16 to 60 years (Adults) and 61+ years (Elders). "
   ]
  },
  {
   "cell_type": "code",
   "execution_count": 22,
   "metadata": {},
   "outputs": [
    {
     "data": {
      "image/png": "[encoded data removed]",
      "text/plain": [
       "<Figure size 720x360 with 1 Axes>"
      ]
     },
     "metadata": {
      "needs_background": "light"
     },
     "output_type": "display_data"
    },
    {
     "name": "stdout",
     "output_type": "stream",
     "text": [
      "Children survival rate: 0.59\n",
      "Adults survival rate: 0.39\n",
      "Elders survival rate: 0.19\n"
     ]
    }
   ],
   "source": [
    "total_children = df_train[df_train['Age']<=15].count()[0]\n",
    "surv_children = df_train[(df_train['Age']<=15) & (df_train['Survived']==1)].count()[0]\n",
    "children_surv_per = surv_children/total_children\n",
    "\n",
    "total_adults = df_train[(df_train['Age']>15) & (df_train['Age']<=60)].count()[0]\n",
    "surv_adults = df_train[(df_train['Age']>15) & (df_train['Age']<=60) & (df_train['Survived']==1)].count()[0]\n",
    "adults_surv_per = surv_adults/total_adults\n",
    "\n",
    "total_elders = df_train[df_train['Age']>60].count()[0]\n",
    "surv_elders = df_train[(df_train['Age']>60) & (df_train['Survived']==1)].count()[0]\n",
    "elders_surv_per = surv_elders/total_elders \n",
    "\n",
    "# Bar Graph configuration\n",
    "plt.figure(figsize=(10, 5))\n",
    "plt.bar(['Children'], children_surv_per, width=0.5, color='orange')\n",
    "plt.bar(['Adult'], adults_surv_per, width=0.5, color='orange')\n",
    "plt.bar(['Elder'], elders_surv_per , width=0.5, color='orange')\n",
    "\n",
    "plt.title('Survival Rate per Ages')\n",
    "plt.ylabel('Percentage')\n",
    "\n",
    "plt.show()\n",
    "\n",
    "print(f'Children survival rate: {round(children_surv_per,2)}')\n",
    "print(f'Adults survival rate: {round(adults_surv_per,2)}')\n",
    "print(f'Elders survival rate: {round(elders_surv_per,2)}')"
   ]
  },
  {
   "cell_type": "markdown",
   "metadata": {},
   "source": [
    "Children have highest survival rate. It's curious that the rate of difference between each age group be a constant, exactly 0.2 of difference. Thanks to this, we can group our ages dataset more confident on this three groups who share a proportional rate between there."
   ]
  },
  {
   "cell_type": "code",
   "execution_count": 23,
   "metadata": {},
   "outputs": [],
   "source": [
    "# Unify the type of data on Age column\n",
    "def define_age(x):\n",
    "    '''\n",
    "    Children == 0\n",
    "    Adult == 1\n",
    "    Elder == 2\n",
    "    '''\n",
    "    if x <= 15:\n",
    "        return 0\n",
    "    elif x <=60:\n",
    "        return 1\n",
    "    else:\n",
    "        return 2\n",
    "    \n",
    "df_train['Age'] = df_train['Age'].apply(lambda x : int(define_age(x)))"
   ]
  },
  {
   "cell_type": "code",
   "execution_count": 24,
   "metadata": {},
   "outputs": [
    {
     "data": {
      "text/html": [
       "<div>\n",
       "<style scoped>\n",
       "    .dataframe tbody tr th:only-of-type {\n",
       "        vertical-align: middle;\n",
       "    }\n",
       "\n",
       "    .dataframe tbody tr th {\n",
       "        vertical-align: top;\n",
       "    }\n",
       "\n",
       "    .dataframe thead th {\n",
       "        text-align: right;\n",
       "    }\n",
       "</style>\n",
       "<table border=\"1\" class=\"dataframe\">\n",
       "  <thead>\n",
       "    <tr style=\"text-align: right;\">\n",
       "      <th></th>\n",
       "      <th>PassengerId</th>\n",
       "      <th>Survived</th>\n",
       "      <th>Pclass</th>\n",
       "      <th>Sex</th>\n",
       "      <th>Age</th>\n",
       "      <th>Embarked</th>\n",
       "      <th>FamMem</th>\n",
       "    </tr>\n",
       "  </thead>\n",
       "  <tbody>\n",
       "    <tr>\n",
       "      <th>0</th>\n",
       "      <td>1</td>\n",
       "      <td>0</td>\n",
       "      <td>3</td>\n",
       "      <td>0</td>\n",
       "      <td>1</td>\n",
       "      <td>0</td>\n",
       "      <td>1</td>\n",
       "    </tr>\n",
       "    <tr>\n",
       "      <th>1</th>\n",
       "      <td>2</td>\n",
       "      <td>1</td>\n",
       "      <td>1</td>\n",
       "      <td>1</td>\n",
       "      <td>1</td>\n",
       "      <td>1</td>\n",
       "      <td>1</td>\n",
       "    </tr>\n",
       "    <tr>\n",
       "      <th>2</th>\n",
       "      <td>3</td>\n",
       "      <td>1</td>\n",
       "      <td>3</td>\n",
       "      <td>1</td>\n",
       "      <td>1</td>\n",
       "      <td>0</td>\n",
       "      <td>0</td>\n",
       "    </tr>\n",
       "    <tr>\n",
       "      <th>3</th>\n",
       "      <td>4</td>\n",
       "      <td>1</td>\n",
       "      <td>1</td>\n",
       "      <td>1</td>\n",
       "      <td>1</td>\n",
       "      <td>0</td>\n",
       "      <td>1</td>\n",
       "    </tr>\n",
       "    <tr>\n",
       "      <th>4</th>\n",
       "      <td>5</td>\n",
       "      <td>0</td>\n",
       "      <td>3</td>\n",
       "      <td>0</td>\n",
       "      <td>1</td>\n",
       "      <td>0</td>\n",
       "      <td>0</td>\n",
       "    </tr>\n",
       "    <tr>\n",
       "      <th>6</th>\n",
       "      <td>7</td>\n",
       "      <td>0</td>\n",
       "      <td>1</td>\n",
       "      <td>0</td>\n",
       "      <td>1</td>\n",
       "      <td>0</td>\n",
       "      <td>0</td>\n",
       "    </tr>\n",
       "    <tr>\n",
       "      <th>7</th>\n",
       "      <td>8</td>\n",
       "      <td>0</td>\n",
       "      <td>3</td>\n",
       "      <td>0</td>\n",
       "      <td>0</td>\n",
       "      <td>0</td>\n",
       "      <td>4</td>\n",
       "    </tr>\n",
       "    <tr>\n",
       "      <th>8</th>\n",
       "      <td>9</td>\n",
       "      <td>1</td>\n",
       "      <td>3</td>\n",
       "      <td>1</td>\n",
       "      <td>1</td>\n",
       "      <td>0</td>\n",
       "      <td>2</td>\n",
       "    </tr>\n",
       "    <tr>\n",
       "      <th>9</th>\n",
       "      <td>10</td>\n",
       "      <td>1</td>\n",
       "      <td>2</td>\n",
       "      <td>1</td>\n",
       "      <td>0</td>\n",
       "      <td>1</td>\n",
       "      <td>1</td>\n",
       "    </tr>\n",
       "    <tr>\n",
       "      <th>10</th>\n",
       "      <td>11</td>\n",
       "      <td>1</td>\n",
       "      <td>3</td>\n",
       "      <td>1</td>\n",
       "      <td>0</td>\n",
       "      <td>0</td>\n",
       "      <td>2</td>\n",
       "    </tr>\n",
       "  </tbody>\n",
       "</table>\n",
       "</div>"
      ],
      "text/plain": [
       "    PassengerId  Survived  Pclass  Sex  Age  Embarked  FamMem\n",
       "0             1         0       3    0    1         0       1\n",
       "1             2         1       1    1    1         1       1\n",
       "2             3         1       3    1    1         0       0\n",
       "3             4         1       1    1    1         0       1\n",
       "4             5         0       3    0    1         0       0\n",
       "6             7         0       1    0    1         0       0\n",
       "7             8         0       3    0    0         0       4\n",
       "8             9         1       3    1    1         0       2\n",
       "9            10         1       2    1    0         1       1\n",
       "10           11         1       3    1    0         0       2"
      ]
     },
     "execution_count": 24,
     "metadata": {},
     "output_type": "execute_result"
    }
   ],
   "source": [
    "# Finally our dataset is already clean and unify according with our hypothesis.\n",
    "df_train[0:10]"
   ]
  },
  {
   "cell_type": "code",
   "execution_count": 25,
   "metadata": {},
   "outputs": [],
   "source": [
    "df_train.to_csv('./train_master_table.csv')"
   ]
  }
 ],
 "metadata": {
  "kernelspec": {
   "display_name": "Python 3",
   "language": "python",
   "name": "python3"
  },
  "language_info": {
   "codemirror_mode": {
    "name": "ipython",
    "version": 3
   },
   "file_extension": ".py",
   "mimetype": "text/x-python",
   "name": "python",
   "nbconvert_exporter": "python",
   "pygments_lexer": "ipython3",
   "version": "3.7.6"
  }
 },
 "nbformat": 4,
 "nbformat_minor": 4
}
